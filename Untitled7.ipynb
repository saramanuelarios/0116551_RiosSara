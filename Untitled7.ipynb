{
 "cells": [
  {
   "cell_type": "markdown",
   "metadata": {},
   "source": [
    "# EJERCICIOS FALTANTES\n"
   ]
  },
  {
   "cell_type": "markdown",
   "metadata": {},
   "source": [
    "## EJERCICIO 14"
   ]
  },
  {
   "cell_type": "markdown",
   "metadata": {},
   "source": [
    "Leer una cadena de texto y organice alfabéticamente cada una de las letras que la componen, repitiendo cada una\n",
    "tantas veces como se encuentra. Por ejemplo, la cadena ‘tarea importante’ será ‘aaaeeimnoprrttt’. (Note que no se\n",
    "incluyen los espacios)."
   ]
  },
  {
   "cell_type": "code",
   "execution_count": null,
   "metadata": {},
   "outputs": [],
   "source": [
    "texto = input('Digite el texto: ')\n",
    "texto_2 = texto.replace(' ','')\n",
    "\n",
    "alfabeto = ['a','A','á','Á','b','B','c','C','d','D','e','E','é','É','f','F',\\\n",
    "            'g','G','h','H','i','I','í','Í','j','J','k','K','l','L','m','M',\\\n",
    "            'n','N','ñ','Ñ','o','O','p','P','q','Q','r','R','s','S','t','T',\\\n",
    "            'u','U','ü','Ü','v','V','w','W','x','X','y','Y','z','Z']\n",
    "\n",
    "texto_num = []           #Lista del indexado de cada letra \n",
    "for i in texto_2:\n",
    "    indexado = 0         #Indexado de cada letra\n",
    "    for j in alfabeto:\n",
    "        if i == j:\n",
    "            indexado = alfabeto.index(j)\n",
    "            texto_num.append(indexado)\n",
    "    \n",
    "texto_ord = sorted(texto_num) \n",
    "print(f'{texto} :\\\n",
    " ', end= '')\n",
    "\n",
    "for i in texto_ord:\n",
    "    print(f'{alfabeto[i]}',end = '')"
   ]
  },
  {
   "cell_type": "markdown",
   "metadata": {},
   "source": [
    "## EJERCICIO 18 "
   ]
  },
  {
   "cell_type": "markdown",
   "metadata": {},
   "source": [
    "Leer una matriz cuadrada A, obtener su matriz triangular superior asociada U y determinar qué fila de U contiene la\n",
    "mayor cantidad de unos."
   ]
  },
  {
   "cell_type": "code",
   "execution_count": null,
   "metadata": {},
   "outputs": [],
   "source": [
    "\n",
    "print('El número de filas y columnas de una matriz siempre es un número \\\n",
    "entero')\n",
    "print('Recuerde que en una matriz cuadrada hay igual número de filas que de \\\n",
    "columnas')\n",
    "\n",
    "num_fila = int(input('Escriba el número de filas que desea ingresar:'))\n",
    "print('Por favor ingrese la fila de la matriz dentro de [] y separe los \\\n",
    "elementos con comas. Por ejemplo:[1,2,3]')\n",
    "\n",
    "matrizA = []  #Matriz ingresada\n",
    "for i in range(num_fila):\n",
    "    matrizA.extend([eval(input(f'Escriba la fila {i+1}:'))])\n",
    "\n",
    "print(f'matriz A es la matriz que acaba de ingresar: {matrizA}')\n",
    "\n",
    "matrizU = []  #Matriz triangular superior de matrizA\n",
    "for i in range(num_fila):\n",
    "    matrizU.append([0]*num_fila)\n",
    "            \n",
    "matrizU = []\n",
    "for i in range(num_fila):\n",
    "    matrizU.append([0]*num_fila)\n",
    "\n",
    "for f in range(num_fila):\n",
    "    for c in range(num_fila):\n",
    "        if f > c:\n",
    "            matrizU[f][c] = 0\n",
    "        else:\n",
    "            matrizU[f][c] = matrizA[f][c]\n",
    "\n",
    "print('La matriz triangular superior de A se llama matriz U')         \n",
    "print(f'matriz U = {matrizU}')\n",
    "\n",
    "mayor = 0        #Variable para hallar la fila que contiene más unos\n",
    "repetidos = []   #Guarda la fila o filas que contiene la mayor cantidad de unos\n",
    "for k in range(num_fila):\n",
    "    uno = matrizU[k].count(1)  #Cuenta la cantidad de unos que tiene la fila\n",
    "    if mayor < uno:\n",
    "        mayor = uno\n",
    "        fil_mayor = k\n",
    "    if mayor == uno and mayor != 0:\n",
    "        repetidos.append(k+1)\n",
    "\n",
    "if len(repetidos) == 0:\n",
    "    print('En la matriz U no se ingresó el número 1')\n",
    "elif len(repetidos) == 1:\n",
    "    print(f'En la matriz U, la fila que contiene la mayor cantidad de unos es \\\n",
    "la fila {fil_mayor+1}')\n",
    "else:\n",
    "    print('En la matriz U las filas que contienen la mayor e igual cantidad de\\\n",
    " unos son las filas:',end = '')\n",
    "    for j in repetidos:\n",
    "        print (j, end = ' ')"
   ]
  },
  {
   "cell_type": "markdown",
   "metadata": {},
   "source": [
    "## EJERCICIO 19"
   ]
  },
  {
   "cell_type": "markdown",
   "metadata": {},
   "source": [
    "Leer una lista e identifique la sublista más larga dentro de dicha lista que se encuentra ordenada ascendentemente.\n",
    "Por ejemplo, en la lista [5, 6, 5, 1, 2, 6, 9, 2, 4, 1] la mayor sublista ordenada es la [1, 2, 6, 9]."
   ]
  },
  {
   "cell_type": "code",
   "execution_count": null,
   "metadata": {},
   "outputs": [],
   "source": [
    "print('Por favor ingrese la lista de la siguiente manera:[1,2,3]')\n",
    "lista = eval(input('Ingrese una lista:'))\n",
    "\n",
    "listas = [] \n",
    "\n",
    "for i in range(len(lista)):\n",
    "    aux = i       #Variables para identificar las listas ascendentes \n",
    "    aux_2 = -1    \n",
    "\n",
    "    for j in range(i, len(lista)-1): #sublistas de forma ascendentes\n",
    "        if lista[j] <= lista[j+1]:\n",
    "            aux_2 = j+1\n",
    "        else:\n",
    "            break\n",
    "    listas.append(lista[aux:aux_2+1])\n",
    "lista_mayor = listas[0]\n",
    "for i in listas:                   #lista ascendente más larga\n",
    "    if len(i) >= len(lista_mayor):\n",
    "        lista_mayor = i\n",
    "    \n",
    "if len(lista_mayor) == 0:\n",
    "    print('No hay sublistas ascendentes.')\n",
    "else:\n",
    "    print(f'La sublista ascendente mas larga es: {lista_mayor}')"
   ]
  },
  {
   "cell_type": "markdown",
   "metadata": {},
   "source": [
    "## EJERCICIO 20 "
   ]
  },
  {
   "cell_type": "markdown",
   "metadata": {},
   "source": [
    "Hacer un programa que lea una matriz y la rote 90 grados en sentido antihorario. Imprimir la matriz resultante. Por ejemplo, dada la matriz\n",
    "   \n",
    "       62 42 70  66 10\n",
    "       35 10  4  92 94\n",
    "       33 37  5 100 19\n",
    "       79 44 72  53 91\n",
    "     la matriz solicitada es la:\n",
    "       10 94  19 91\n",
    "       66 92 100 53\n",
    "       70  4   5 72\n",
    "       42 10  37 44\n",
    "       62 35  33 79\n",
    "Repita el mismo ejercicio utilizando el módulo numpy."
   ]
  },
  {
   "cell_type": "code",
   "execution_count": null,
   "metadata": {},
   "outputs": [],
   "source": [
    "print('El número de filas y columnas deben ser un numero entero')\n",
    "num_fila = int(input('Escriba el número de filas de su matriz:'))\n",
    "num_col = int(input('Escriba el número de columnas de su matriz:'))\n",
    "\n",
    "#matriz ingresada\n",
    "matriz = []                              \n",
    "\n",
    "for i in range(num_fila):\n",
    "    matriz.append([0]*num_col)\n",
    "    \n",
    "for i in range(num_fila):\n",
    "    for j in range(num_col):\n",
    "        matriz[i][j] = (eval(input(f'Escriba el elemento [{i+1}] [{j+1}]:')))\n",
    "\n",
    "print(f'La matriz {num_fila}x{num_col} es: {matriz}')\n",
    "\n",
    "#convierte filas en columnas\n",
    "m1 = []        \n",
    "\n",
    "for i in range(num_col):\n",
    "    m1.append([0]*num_fila)\n",
    "\n",
    "for c in range(num_col):\n",
    "    for f in range(num_fila): \n",
    "        m1[c][f] = matriz[f][c]\n",
    "        \n",
    "m_rotada = []  #Matriz rotada 90 grados \n",
    "for i in range(num_col):\n",
    "    m_rotada.extend([m1[-i-1]])\n",
    "    \n",
    "print(f'La matriz rotada es: {m_rotada}')"
   ]
  }
 ],
 "metadata": {
  "kernelspec": {
   "display_name": "Python 3",
   "language": "python",
   "name": "python3"
  },
  "language_info": {
   "codemirror_mode": {
    "name": "ipython",
    "version": 3
   },
   "file_extension": ".py",
   "mimetype": "text/x-python",
   "name": "python",
   "nbconvert_exporter": "python",
   "pygments_lexer": "ipython3",
   "version": "3.7.3"
  }
 },
 "nbformat": 4,
 "nbformat_minor": 2
}
